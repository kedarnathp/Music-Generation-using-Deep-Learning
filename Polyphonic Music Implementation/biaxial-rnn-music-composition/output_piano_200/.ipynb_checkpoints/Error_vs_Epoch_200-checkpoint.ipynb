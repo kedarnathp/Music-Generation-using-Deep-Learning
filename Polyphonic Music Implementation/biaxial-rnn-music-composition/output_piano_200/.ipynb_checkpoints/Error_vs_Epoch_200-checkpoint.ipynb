{
 "cells": [
  {
   "cell_type": "code",
   "execution_count": 1,
   "metadata": {},
   "outputs": [
    {
     "data": {
      "text/plain": [
       "<Figure size 1000x800 with 1 Axes>"
      ]
     },
     "metadata": {},
     "output_type": "display_data"
    }
   ],
   "source": [
    "import matplotlib.pyplot as plt\n",
    "\n",
    "X, Y = [], []\n",
    "for line in open('output_terminal.txt', 'r'):\n",
    "  values = [float(s) for s in line.split(',')]\n",
    "  X.append(values[0])\n",
    "  Y.append(values[1])\n",
    "\n",
    "\n",
    "fig=plt.figure(figsize=(10, 8))\n",
    "\n",
    "ax1 = fig.add_subplot(111)\n",
    "\n",
    "ax1.set_title(\"Training Error over Epochs using 200 hidden layers\")    \n",
    "ax1.set_xlabel('Epoch')\n",
    "ax1.set_ylabel('Error')\n",
    "\n",
    "ax1.plot(X,Y, c='red', label='the data')\n",
    "\n",
    "plt.show()"
   ]
  },
  {
   "cell_type": "code",
   "execution_count": null,
   "metadata": {},
   "outputs": [],
   "source": []
  }
 ],
 "metadata": {
  "kernelspec": {
   "display_name": "Python 3",
   "language": "python",
   "name": "python3"
  },
  "language_info": {
   "codemirror_mode": {
    "name": "ipython",
    "version": 3
   },
   "file_extension": ".py",
   "mimetype": "text/x-python",
   "name": "python",
   "nbconvert_exporter": "python",
   "pygments_lexer": "ipython3",
   "version": "3.6.5"
  }
 },
 "nbformat": 4,
 "nbformat_minor": 2
}
